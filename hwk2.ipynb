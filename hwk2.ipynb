{
 "cells": [
  {
   "cell_type": "code",
   "execution_count": 147,
   "metadata": {},
   "outputs": [],
   "source": [
    "import urllib # the necessary python library for importing the url into files\n",
    "from io import StringIO # import library for converting bytes data to string data "
   ]
  },
  {
   "cell_type": "code",
   "execution_count": 148,
   "metadata": {},
   "outputs": [],
   "source": [
    "def open_url(url):\n",
    "    url = \"https://data.seattle.gov/api/views/65db-xm6k/rows.csv?accessType=DOWNLOAD\"\n",
    "    bike = urllib.request.urlopen(url)\n",
    "    bike_file = bike.read()\n",
    "    print(bike_file)\n",
    "    s = str(bike_file, 'utf-8')\n",
    "    bike = StringIO(s)\n",
    "    bike = pd.read_csv(bike)"
   ]
  },
  {
   "cell_type": "code",
   "execution_count": 9,
   "metadata": {},
   "outputs": [
    {
     "data": {
      "text/plain": [
       "pandas.core.frame.DataFrame"
      ]
     },
     "execution_count": 9,
     "metadata": {},
     "output_type": "execute_result"
    }
   ],
   "source": [
    "type(bike) #bike is now a data frame "
   ]
  },
  {
   "cell_type": "code",
   "execution_count": 11,
   "metadata": {},
   "outputs": [
    {
     "data": {
      "text/plain": [
       "<bound method NDFrame.head of                          Date  Fremont Bridge East Sidewalk  \\\n",
       "0      02/24/2015 02:00:00 AM                           3.0   \n",
       "1      01/01/2019 12:00:00 AM                           0.0   \n",
       "2      01/01/2019 01:00:00 AM                           2.0   \n",
       "3      02/15/2016 12:00:00 AM                           3.0   \n",
       "4      01/01/2019 02:00:00 AM                           1.0   \n",
       "5      01/01/2019 03:00:00 AM                           1.0   \n",
       "6      01/01/2019 04:00:00 AM                           2.0   \n",
       "7      01/01/2019 05:00:00 AM                           3.0   \n",
       "8      01/01/2019 06:00:00 AM                           4.0   \n",
       "9      01/01/2019 07:00:00 AM                           1.0   \n",
       "10     01/01/2019 08:00:00 AM                           8.0   \n",
       "11     01/01/2019 09:00:00 AM                           5.0   \n",
       "12     01/01/2019 10:00:00 AM                          37.0   \n",
       "13     01/01/2019 11:00:00 AM                          31.0   \n",
       "14     01/01/2019 12:00:00 PM                          31.0   \n",
       "15     01/01/2019 01:00:00 PM                          55.0   \n",
       "16     01/01/2019 02:00:00 PM                          61.0   \n",
       "17     01/01/2019 03:00:00 PM                          31.0   \n",
       "18     11/15/2015 02:00:00 AM                           0.0   \n",
       "19     01/01/2019 04:00:00 PM                          30.0   \n",
       "20     01/01/2019 05:00:00 PM                           9.0   \n",
       "21     01/01/2019 06:00:00 PM                           9.0   \n",
       "22     01/01/2019 07:00:00 PM                           8.0   \n",
       "23     01/01/2019 08:00:00 PM                           4.0   \n",
       "24     01/01/2019 09:00:00 PM                           1.0   \n",
       "25     01/01/2019 10:00:00 PM                           1.0   \n",
       "26     01/01/2019 11:00:00 PM                           0.0   \n",
       "27     11/29/2015 04:00:00 AM                           0.0   \n",
       "28     01/02/2019 12:00:00 AM                           1.0   \n",
       "29     03/14/2013 03:00:00 AM                           1.0   \n",
       "...                       ...                           ...   \n",
       "61266  02/03/2013 02:00:00 AM                           3.0   \n",
       "61267  05/06/2015 06:00:00 PM                         175.0   \n",
       "61268  12/09/2013 06:00:00 AM                          47.0   \n",
       "61269  09/05/2016 02:00:00 AM                           0.0   \n",
       "61270  03/24/2015 12:00:00 PM                          44.0   \n",
       "61271  10/11/2017 01:00:00 PM                          40.0   \n",
       "61272  01/30/2013 09:00:00 PM                           7.0   \n",
       "61273  09/07/2015 01:00:00 PM                          99.0   \n",
       "61274  06/23/2016 03:00:00 AM                           0.0   \n",
       "61275  04/29/2016 03:00:00 PM                          76.0   \n",
       "61276  05/17/2015 03:00:00 AM                           6.0   \n",
       "61277  08/18/2014 02:00:00 AM                           0.0   \n",
       "61278  11/10/2012 02:00:00 AM                           4.0   \n",
       "61279  05/18/2015 09:00:00 AM                         173.0   \n",
       "61280  02/06/2018 06:00:00 AM                          68.0   \n",
       "61281  02/26/2018 05:00:00 AM                          15.0   \n",
       "61282  04/16/2014 06:00:00 AM                          46.0   \n",
       "61283  01/04/2017 11:00:00 AM                          14.0   \n",
       "61284  05/04/2013 06:00:00 AM                          17.0   \n",
       "61285  11/15/2014 03:00:00 PM                          59.0   \n",
       "61286  11/28/2017 07:00:00 PM                          27.0   \n",
       "61287  06/20/2017 08:00:00 PM                          54.0   \n",
       "61288  04/22/2016 10:00:00 PM                           8.0   \n",
       "61289  11/21/2015 04:00:00 PM                          49.0   \n",
       "61290  10/17/2012 02:00:00 PM                          54.0   \n",
       "61291  12/12/2013 05:00:00 AM                          21.0   \n",
       "61292  07/19/2013 09:00:00 PM                          63.0   \n",
       "61293  05/18/2018 07:00:00 PM                          70.0   \n",
       "61294  12/04/2014 07:00:00 AM                         150.0   \n",
       "61295  10/01/2013 04:00:00 AM                           3.0   \n",
       "\n",
       "       Fremont Bridge West Sidewalk  \n",
       "0                               3.0  \n",
       "1                               9.0  \n",
       "2                              22.0  \n",
       "3                               3.0  \n",
       "4                              11.0  \n",
       "5                               2.0  \n",
       "6                               1.0  \n",
       "7                               1.0  \n",
       "8                               7.0  \n",
       "9                               2.0  \n",
       "10                              9.0  \n",
       "11                             14.0  \n",
       "12                             24.0  \n",
       "13                             11.0  \n",
       "14                             29.0  \n",
       "15                             48.0  \n",
       "16                             52.0  \n",
       "17                             37.0  \n",
       "18                              0.0  \n",
       "19                             28.0  \n",
       "20                             17.0  \n",
       "21                             11.0  \n",
       "22                              7.0  \n",
       "23                              3.0  \n",
       "24                              3.0  \n",
       "25                              2.0  \n",
       "26                              2.0  \n",
       "27                              0.0  \n",
       "28                              0.0  \n",
       "29                              1.0  \n",
       "...                             ...  \n",
       "61266                           4.0  \n",
       "61267                         327.0  \n",
       "61268                          20.0  \n",
       "61269                           2.0  \n",
       "61270                           3.0  \n",
       "61271                          55.0  \n",
       "61272                          22.0  \n",
       "61273                          82.0  \n",
       "61274                           2.0  \n",
       "61275                          85.0  \n",
       "61276                           2.0  \n",
       "61277                           4.0  \n",
       "61278                           6.0  \n",
       "61279                         116.0  \n",
       "61280                          49.0  \n",
       "61281                           7.0  \n",
       "61282                          21.0  \n",
       "61283                          15.0  \n",
       "61284                          12.0  \n",
       "61285                          55.0  \n",
       "61286                          63.0  \n",
       "61287                          63.0  \n",
       "61288                          13.0  \n",
       "61289                          29.0  \n",
       "61290                          51.0  \n",
       "61291                           3.0  \n",
       "61292                          52.0  \n",
       "61293                         111.0  \n",
       "61294                          62.0  \n",
       "61295                           2.0  \n",
       "\n",
       "[61296 rows x 3 columns]>"
      ]
     },
     "execution_count": 11,
     "metadata": {},
     "output_type": "execute_result"
    }
   ],
   "source": [
    "bike.head"
   ]
  },
  {
   "cell_type": "code",
   "execution_count": 88,
   "metadata": {},
   "outputs": [],
   "source": [
    "sec_input = ['cat','mouse','dog','Date'] #a dummy list to test in function later "
   ]
  },
  {
   "cell_type": "code",
   "execution_count": 89,
   "metadata": {
    "scrolled": true
   },
   "outputs": [
    {
     "data": {
      "text/plain": [
       "['cat', 'mouse', 'dog', 'Date']"
      ]
     },
     "execution_count": 89,
     "metadata": {},
     "output_type": "execute_result"
    }
   ],
   "source": [
    "sec_input # a dummy list to test in function later "
   ]
  },
  {
   "cell_type": "code",
   "execution_count": 145,
   "metadata": {
    "scrolled": true
   },
   "outputs": [],
   "source": [
    " def test_create_dataframe(dataframe, colnames):\n",
    "        if set(list(dataframe.columns.values)) & set(colnames) == set(list(dataframe.columns.values)):\n",
    "            print('the column names match!')\n",
    "        else:\n",
    "            print('the column names do not match!')\n",
    "        if len(dataframe.index) >= 10:\n",
    "            print(\"there are at least 10 rows in the dataframe\")\n",
    "        if len(set(dataframe.dtypes)) >= 2: \n",
    "            print(\"there are more than one data type in the columns\")\n",
    "    "
   ]
  },
  {
   "cell_type": "code",
   "execution_count": 146,
   "metadata": {
    "scrolled": false
   },
   "outputs": [
    {
     "name": "stdout",
     "output_type": "stream",
     "text": [
      "the column names do not match!\n",
      "there are at least 10 rows in the dataframe\n",
      "there are more than one data type in the columns\n"
     ]
    }
   ],
   "source": [
    "test_create_dataframe(bike,sec_input)"
   ]
  },
  {
   "cell_type": "code",
   "execution_count": null,
   "metadata": {},
   "outputs": [],
   "source": []
  }
 ],
 "metadata": {
  "kernelspec": {
   "display_name": "Python 3",
   "language": "python",
   "name": "python3"
  },
  "language_info": {
   "codemirror_mode": {
    "name": "ipython",
    "version": 3
   },
   "file_extension": ".py",
   "mimetype": "text/x-python",
   "name": "python",
   "nbconvert_exporter": "python",
   "pygments_lexer": "ipython3",
   "version": "3.7.3"
  }
 },
 "nbformat": 4,
 "nbformat_minor": 2
}
